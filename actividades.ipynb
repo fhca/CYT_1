{
 "cells": [
  {
   "cell_type": "code",
   "execution_count": 10,
   "metadata": {},
   "outputs": [],
   "source": [
    "from collections import defaultdict\n",
    "from actividades import histogramas\n",
    "\n",
    "archivo = \"actividades_profesores.xlsx\""
   ]
  },
  {
   "cell_type": "code",
   "execution_count": 11,
   "metadata": {},
   "outputs": [
    {
     "name": "stdout",
     "output_type": "stream",
     "text": [
      "Index(['ID', 'Nombre', 'Academia', 'Colegio', 'Tipo de Publicación', 'ISBN',\n",
      "       'Título Publicación', 'Título Contenedor', 'Volumen',\n",
      "       'Número de páginas', 'Página de Inicio', 'Página Final', 'Año',\n",
      "       'Editorial', 'País', 'Idioma', 'Arbitraje', 'Publicaciones Autoria',\n",
      "       'Número Citas', 'Fecha De Inicio', 'Fecha Final', 'Institución',\n",
      "       'Función de Publicaciones', 'Formato De Publicaciones', 'Tiraje',\n",
      "       'Periodicidad De Publicaciones', 'Otro Tipo De Tiraje'],\n",
      "      dtype='object')\n"
     ]
    }
   ],
   "source": [
    "Accion = defaultdict(str)\n",
    "Accion.update({'elimina': ['ID', 'Colegio', 'ISBN', 'Número Citas', 'Fecha De Inicio',\n",
    "                           'Título Publicación', 'Título Contenedor', 'Volumen',\n",
    "                           'Página de Inicio', 'Página Final',],\n",
    "               'ordena': ['Año', 'Fecha Final', 'Número de páginas',],\n",
    "               'rordena': ['Tiraje', 'Otro Tipo De Tiraje'],\n",
    "               'recorta3': [],\n",
    "               'recorta7': ['Fecha Final',]})\n",
    "\n",
    "histogramas(archivo, hoja=0, etiqueta='publicaciones', accion=Accion)"
   ]
  },
  {
   "cell_type": "code",
   "execution_count": 12,
   "metadata": {},
   "outputs": [
    {
     "name": "stdout",
     "output_type": "stream",
     "text": [
      "Index(['ID', 'Nombre', 'Academia', 'Colegio',\n",
      "       'Clave Del Sistema (para control en el Sistema )', 'Tiulo',\n",
      "       'Tipo De Proyecto', 'Area De Conocimiento', 'Fecha De Inicio',\n",
      "       '_año_inicio', 'Fecha Termino', '_duración(años)', 'Estatus',\n",
      "       '_en_proceso', 'Porcentaje De Avance', '_antiguo_menos de 50%',\n",
      "       'Tiene Financiamiento', 'Origen De Financiamiento',\n",
      "       'Institución De Financiamiento', 'Otra Institución De Financiamiento',\n",
      "       'Monto De Financiamiento', '_monto_redondeado_100K',\n",
      "       'Fecha De Inicio del Financiamiento',\n",
      "       'Fecha De Termino Del Financiamiento', 'Evaluado',\n",
      "       'Institución Evaluadora', 'Año', 'Evaluación ADI'],\n",
      "      dtype='object')\n"
     ]
    }
   ],
   "source": [
    "Accion = defaultdict(str)\n",
    "Accion.update({'elimina': ['ID', 'Colegio', 'Evaluación ADI'],\n",
    "               'ordena': ['Año', 'Fecha De Inicio', 'Fecha Termino',\n",
    "                          'Fecha De Inicio del Financiamiento',\n",
    "                          'Fecha De Termino Del Financiamiento'],\n",
    "               'rordena': ['Porcentaje De Avance',\n",
    "                           'Monto De Financiamiento'],\n",
    "               'recorta3': ['Clave Del Sistema (para control en el Sistema )'],\n",
    "               'recorta7': ['Fecha De Inicio', 'Fecha Termino',\n",
    "                            'Fecha De Inicio del Financiamiento',\n",
    "                            'Fecha De Termino Del Financiamiento']})\n",
    "\n",
    "histogramas(archivo, hoja=1, etiqueta='proyectos', accion=Accion)"
   ]
  },
  {
   "cell_type": "code",
   "execution_count": 13,
   "metadata": {},
   "outputs": [
    {
     "name": "stdout",
     "output_type": "stream",
     "text": [
      "Index(['ID', 'Nombre', 'Academia', 'Colegio', 'Título', 'Beneficiario',\n",
      "       'Usuario', 'Impacto', 'Fecha Inicio', 'Fecha De Termino',\n",
      "       'Sector De\\nInstituciones', 'País', 'Estatus\\nDe \\nPatente', 'Folio',\n",
      "       'Expediente', 'Clasificación\\nInternacional', 'Explotación\\nIndustrial',\n",
      "       'Institución Que Realiza\\nLa Explotación',\n",
      "       'Tipo De Produccion\\nCientífica', 'Año'],\n",
      "      dtype='object')\n"
     ]
    }
   ],
   "source": [
    "Accion = defaultdict(str)\n",
    "Accion.update({'elimina':['ID', 'Colegio', 'País', 'Institución Que Realiza\\nLa Explotación'],\n",
    "                    'ordena':['Año', 'Fecha Inicio', 'Fecha De Termino'],\n",
    "                    'rordena': [],\n",
    "                    'recorta3': ['Clave Del Sistema (para control en el Sistema )'],\n",
    "                    'recorta7': ['Fecha Inicio', 'Fecha De Termino']})\n",
    "\n",
    "histogramas(archivo, hoja=2, etiqueta='productos', accion=Accion)"
   ]
  },
  {
   "cell_type": "code",
   "execution_count": 14,
   "metadata": {},
   "outputs": [
    {
     "name": "stdout",
     "output_type": "stream",
     "text": [
      "Index(['ID', 'Nombre', 'Academia', 'Colegio', 'Tipo', 'Fecha De Inicio',\n",
      "       'Fecha Final', 'País', 'Nombre De Congreso',\n",
      "       'Título Del  Trabajo En Congreso', 'Tipo De Trabajo',\n",
      "       'Tipo De Participación', 'Tipo De Eventos',\n",
      "       'Tipo De Participación\\nEn El Evento ',\n",
      "       'Título De Ponencia\\nEn El Evento', 'Eventos Dirigido A:',\n",
      "       'Notas Periodísticas\\nDe Eventos', 'Institución De Estancias',\n",
      "       'Principales Logros\\nEn Las Estancias', 'Líneas De Investigación',\n",
      "       'Tipo De Investigación', 'Nombre De Grupos', 'Función De Grupos',\n",
      "       'Registro De Grupos En Programa', 'Sector De Instituciones',\n",
      "       'Beneficiario', 'Nombre De Afiliaciones', 'Cargo De Afiliaciones',\n",
      "       'Año', 'Sede', 'Clase', 'Evento'],\n",
      "      dtype='object')\n"
     ]
    }
   ],
   "source": [
    "Accion = defaultdict(str)\n",
    "Accion.update({'elimina':['ID', 'Colegio', 'País', 'Fecha De Inicio', #'Fecha Final', \n",
    "                          'Nombre De Congreso', \n",
    "                          'Título Del  Trabajo En Congreso', \n",
    "                          'Título De Ponencia\\nEn El Evento',\n",
    "                          'Sector De Instituciones', 'Sede',\n",
    "                          ],\n",
    "                    'ordena':['Año', 'Fecha De Inicio', 'Fecha Final',],\n",
    "                    'rordena': [],\n",
    "                    'recorta3': [],\n",
    "                    'recorta4': ['Fecha De Inicio', 'Fecha Final',],\n",
    "                    'recorta7': []})\n",
    "\n",
    "histogramas(archivo, hoja=3, etiqueta='congresos', accion=Accion)"
   ]
  },
  {
   "cell_type": "code",
   "execution_count": 15,
   "metadata": {},
   "outputs": [
    {
     "name": "stdout",
     "output_type": "stream",
     "text": [
      "Index(['Id', 'Nombre', 'Academia', 'Colegio', 'Tipo De Producción Artística',\n",
      "       'Financiamiento', 'Tiene Financiamiento', 'Monto', 'Fecha Inicio',\n",
      "       'Fecha Termino', 'Título De La Obra', 'Nombre De Titular', 'Técnica',\n",
      "       'Estado Producción Artística', 'Año', 'Producción Artística Evaluado',\n",
      "       'Institución Evaluadora', 'Concepto De Producción Artística', 'Obra',\n",
      "       'sede', 'Paises', 'Autoria De Producción Artística'],\n",
      "      dtype='object')\n"
     ]
    }
   ],
   "source": [
    "Accion = defaultdict(str)\n",
    "Accion.update({'elimina':['Id', 'Colegio', 'País', 'Monto', 'Fecha Inicio', 'Fecha Termino',\n",
    "                          ],\n",
    "                    'ordena':['Año',],\n",
    "                    'rordena': [],\n",
    "                    'recorta3': [],\n",
    "                    'recorta4': [],\n",
    "                    'recorta7': []})\n",
    "\n",
    "histogramas(archivo, hoja=4, etiqueta='productos artísticos', accion=Accion)"
   ]
  },
  {
   "cell_type": "code",
   "execution_count": 16,
   "metadata": {},
   "outputs": [
    {
     "name": "stdout",
     "output_type": "stream",
     "text": [
      "Index(['Id', 'Nombre', 'Academia', 'Colegio',\n",
      "       'Nombre Del Premios o Reconocimiento', 'Año', 'Descripción',\n",
      "       'Sector De Instituciones', 'Origen De Instituciones',\n",
      "       'Nivel Superior De Instituciones', 'Area Conocimiento',\n",
      "       'Tipo De Premios o Distinciones', 'Institución'],\n",
      "      dtype='object')\n"
     ]
    }
   ],
   "source": [
    "Accion = defaultdict(str)\n",
    "Accion.update({'elimina':['Id', 'Colegio',],\n",
    "                    'ordena':['Año'],\n",
    "                    'rordena': [],\n",
    "                    'recorta3': [],\n",
    "                    'recorta4': [],\n",
    "                    'recorta7': []})\n",
    "\n",
    "histogramas(archivo, hoja=5, etiqueta='premios', accion=Accion)"
   ]
  },
  {
   "cell_type": "code",
   "execution_count": 17,
   "metadata": {},
   "outputs": [
    {
     "name": "stdout",
     "output_type": "stream",
     "text": [
      "Index(['Id', 'Nombre', 'Academia', 'Colegio', 'Tipo', 'Institución',\n",
      "       'Fecha De Inicio', 'Fecha Termino', 'País', 'Publicación', 'Editorial',\n",
      "       'Nombre De Distinción', 'Area De Conocimiento', 'Instituciones Origen',\n",
      "       'Instituciones Sector', 'Año', 'Otra Descripción'],\n",
      "      dtype='object')\n"
     ]
    }
   ],
   "source": [
    "Accion = defaultdict(str)\n",
    "Accion.update({'elimina':['Id', 'Colegio',],\n",
    "                    'ordena':['Año', 'Fecha De Inicio', 'Fecha Termino',],\n",
    "                    'rordena': [],\n",
    "                    'recorta3': [],\n",
    "                    'recorta4': ['Fecha De Inicio', 'Fecha Termino',],\n",
    "                    'recorta7': []})\n",
    "\n",
    "histogramas(archivo, hoja=6, etiqueta='distinciones', accion=Accion)"
   ]
  },
  {
   "cell_type": "code",
   "execution_count": 18,
   "metadata": {},
   "outputs": [
    {
     "ename": "ModuleNotFoundError",
     "evalue": "No module named 'investigacion'",
     "output_type": "error",
     "traceback": [
      "\u001b[0;31m---------------------------------------------------------------------------\u001b[0m",
      "\u001b[0;31mModuleNotFoundError\u001b[0m                       Traceback (most recent call last)",
      "Cell \u001b[0;32mIn[18], line 1\u001b[0m\n\u001b[0;32m----> 1\u001b[0m \u001b[38;5;28;01mfrom\u001b[39;00m \u001b[38;5;21;01minvestigacion\u001b[39;00m \u001b[38;5;28;01mimport\u001b[39;00m Lee\n\u001b[1;32m      2\u001b[0m \u001b[38;5;28;01mfrom\u001b[39;00m \u001b[38;5;21;01mnumpy\u001b[39;00m \u001b[38;5;28;01mimport\u001b[39;00m nan\n\u001b[1;32m      4\u001b[0m archivo \u001b[38;5;241m=\u001b[39m \u001b[38;5;124m\"\u001b[39m\u001b[38;5;124mActividades Profesores Proyectos  de Investigación CyT 21092023.xlsx\u001b[39m\u001b[38;5;124m\"\u001b[39m\n",
      "\u001b[0;31mModuleNotFoundError\u001b[0m: No module named 'investigacion'"
     ]
    }
   ],
   "source": [
    "from investigacion import Lee\n",
    "from numpy import nan\n",
    "\n",
    "archivo = \"Actividades Profesores Proyectos  de Investigación CyT 21092023.xlsx\"\n",
    "\n",
    "# Limpiando datos\n",
    "obj = Lee(archivo).carga_hoja(hoja=0)\n",
    "obj.cambia(columna='Número de páginas', busca_reemplaza={'Número de páginas':{[]}})"
   ]
  },
  {
   "cell_type": "code",
   "execution_count": null,
   "metadata": {},
   "outputs": [],
   "source": []
  }
 ],
 "metadata": {
  "kernelspec": {
   "display_name": "base",
   "language": "python",
   "name": "python3"
  },
  "language_info": {
   "codemirror_mode": {
    "name": "ipython",
    "version": 3
   },
   "file_extension": ".py",
   "mimetype": "text/x-python",
   "name": "python",
   "nbconvert_exporter": "python",
   "pygments_lexer": "ipython3",
   "version": "3.11.7"
  }
 },
 "nbformat": 4,
 "nbformat_minor": 2
}
